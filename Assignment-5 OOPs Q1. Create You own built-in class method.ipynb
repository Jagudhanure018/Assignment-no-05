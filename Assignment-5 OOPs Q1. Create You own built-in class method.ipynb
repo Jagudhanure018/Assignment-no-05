{
 "cells": [
  {
   "cell_type": "code",
   "execution_count": null,
   "id": "43222697",
   "metadata": {},
   "outputs": [],
   "source": [
    "Write a Python class to implement pow(x, n)\n",
    "\n",
    "\n",
    "Explanation:\n",
    "\n",
    "Use should be able to find the nth power of the\n",
    "x.(i.e x*x*x*x...n times)\n",
    "\n",
    "You must implement it using Class\n",
    "\n",
    "\n",
    "Sample Input:\n",
    "x: 10\n",
    "n: 2\n",
    "\n",
    "Sample Output:\n",
    "100\n",
    "\n"
   ]
  },
  {
   "cell_type": "code",
   "execution_count": 2,
   "id": "5f02df8e",
   "metadata": {},
   "outputs": [
    {
     "name": "stdout",
     "output_type": "stream",
     "text": [
      "100\n"
     ]
    }
   ],
   "source": [
    "class power:\n",
    "    def __init__(self, x, n):\n",
    "        self.x = x\n",
    "        self.n = n\n",
    "        \n",
    "        print(x**n)\n",
    "        \n",
    "power1 = power(10,2)"
   ]
  },
  {
   "cell_type": "code",
   "execution_count": null,
   "id": "370ffd52",
   "metadata": {},
   "outputs": [],
   "source": []
  },
  {
   "cell_type": "code",
   "execution_count": 13,
   "id": "a451d113",
   "metadata": {},
   "outputs": [
    {
     "name": "stdout",
     "output_type": "stream",
     "text": [
      "100\n"
     ]
    }
   ],
   "source": [
    "class sol:\n",
    "    def power(self, x, n):\n",
    "        a = (x)**(n)\n",
    "        return a\n",
    "\n",
    "print(sol().power(10,2))"
   ]
  },
  {
   "cell_type": "code",
   "execution_count": null,
   "id": "9f85eff3",
   "metadata": {},
   "outputs": [],
   "source": []
  }
 ],
 "metadata": {
  "kernelspec": {
   "display_name": "Python 3 (ipykernel)",
   "language": "python",
   "name": "python3"
  },
  "language_info": {
   "codemirror_mode": {
    "name": "ipython",
    "version": 3
   },
   "file_extension": ".py",
   "mimetype": "text/x-python",
   "name": "python",
   "nbconvert_exporter": "python",
   "pygments_lexer": "ipython3",
   "version": "3.10.0"
  }
 },
 "nbformat": 4,
 "nbformat_minor": 5
}
